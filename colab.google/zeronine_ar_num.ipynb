{
  "cells": [
    {
      "cell_type": "code",
      "source": [
        "import pandas as pd\n",
        "import numpy as np\n",
        "import requests\n",
        "import zipfile\n",
        "import os\n",
        "from scipy import ndimage\n",
        "from tensorflow.keras.utils import to_categorical\n",
        "from tensorflow.keras.models import Sequential, load_model\n",
        "from tensorflow.keras.layers import Dense, Dropout\n",
        "from tensorflow.keras.preprocessing.image import load_img, img_to_array\n",
        "import matplotlib.pyplot as plt\n",
        "from google.colab import files\n",
        "\n",
        "class DataLoader:\n",
        "    def __init__(self, url, extract_path):\n",
        "        self.url = url\n",
        "        self.extract_path = extract_path\n",
        "\n",
        "    def download_and_extract_zip(self):\n",
        "        \"\"\"Download and extract the zip file from the provided URL.\"\"\"\n",
        "        zip_path = 'arabic_handwritten_digits.zip'\n",
        "        response = requests.get(self.url)\n",
        "        with open(zip_path, 'wb') as file:\n",
        "            file.write(response.content)\n",
        "\n",
        "        with zipfile.ZipFile(zip_path, 'r') as zip_ref:\n",
        "            zip_ref.extractall(self.extract_path)\n",
        "\n",
        "    def load_data(self):\n",
        "        \"\"\"Load and preprocess the dataset.\"\"\"\n",
        "        self.download_and_extract_zip()\n",
        "\n",
        "        train_images = pd.read_csv(f'{self.extract_path}/arabic_handwritten_digits/csvTrainImages 60k x 784.csv', header=None).values\n",
        "        train_labels = pd.read_csv(f'{self.extract_path}/arabic_handwritten_digits/csvTrainLabel 60k x 1.csv', header=None).values\n",
        "        test_images = pd.read_csv(f'{self.extract_path}/arabic_handwritten_digits/csvTestImages 10k x 784.csv', header=None).values\n",
        "        test_labels = pd.read_csv(f'{self.extract_path}/arabic_handwritten_digits/csvTestLabel 10k x 1.csv', header=None).values\n",
        "\n",
        "        # Normalize the images\n",
        "        train_images = train_images / 255.0\n",
        "        test_images = test_images / 255.0\n",
        "\n",
        "        # Convert labels to categorical\n",
        "        train_labels = to_categorical(train_labels, num_classes=10)\n",
        "        test_labels = to_categorical(test_labels, num_classes=10)\n",
        "\n",
        "        return (train_images, train_labels), (test_images, test_labels)\n",
        "\n",
        "    def augment_data(self, images, labels):\n",
        "        \"\"\"Augment the dataset by adding inverted images.\"\"\"\n",
        "        inverted_images = 1 - images  # Invert the images\n",
        "        augmented_images = np.vstack((images, inverted_images))\n",
        "        augmented_labels = np.vstack((labels, labels))\n",
        "        return augmented_images, augmented_labels\n",
        "\n",
        "    def show_samples(self, images, labels, num_samples=5):\n",
        "        \"\"\"Display a few samples from the dataset.\"\"\"\n",
        "        plt.figure(figsize=(10, 2))\n",
        "        for i in range(num_samples):\n",
        "            ax = plt.subplot(1, num_samples, i + 1)\n",
        "            img = images[i].reshape(28, 28)\n",
        "            img = ndimage.rotate(img, -90)  # Rotate the image by -90 degrees to fix orientation\n",
        "            img = np.fliplr(img)  # Flip the image horizontally to correct left-right orientation\n",
        "            plt.imshow(img, cmap='gray')\n",
        "            plt.title(np.argmax(labels[i]))\n",
        "            plt.axis('off')\n",
        "        plt.show()\n",
        "\n",
        "class ModelHandler:\n",
        "    def __init__(self):\n",
        "        self.model = None\n",
        "\n",
        "    def build_model(self):\n",
        "        \"\"\"Build and compile the neural network model.\"\"\"\n",
        "        self.model = Sequential([\n",
        "            Dense(512, activation='relu', input_shape=(784,)),\n",
        "            Dropout(0.2),\n",
        "            Dense(512, activation='relu'),\n",
        "            Dropout(0.2),\n",
        "            Dense(10, activation='softmax')\n",
        "        ])\n",
        "        self.model.compile(optimizer='adam', loss='categorical_crossentropy', metrics=['accuracy'])\n",
        "        self.model.summary()\n",
        "\n",
        "    def train_model(self, train_data, test_data, epochs=35, batch_size=128):\n",
        "        \"\"\"Train the model with the given training data.\"\"\"\n",
        "        history = self.model.fit(train_data[0], train_data[1], epochs=epochs, batch_size=batch_size, validation_data=test_data)\n",
        "        return history\n",
        "\n",
        "    def save_model(self, file_path):\n",
        "        \"\"\"Save the trained model to a file.\"\"\"\n",
        "        self.model.save(file_path)\n",
        "\n",
        "    def load_model(self, file_path):\n",
        "        \"\"\"Load a trained model from a file.\"\"\"\n",
        "        self.model = load_model(file_path)\n",
        "\n",
        "class ImagePredictor:\n",
        "    def __init__(self, model):\n",
        "        self.model = model\n",
        "\n",
        "    def predict_digit(self, image_path):\n",
        "        \"\"\"Predict the digit from a given image.\"\"\"\n",
        "        # Load and preprocess the image\n",
        "        img = load_img(image_path, color_mode='grayscale', target_size=(28, 28))\n",
        "        img = ndimage.rotate(img, -90)  # Rotate the image by -90 degrees to fix orientation\n",
        "        img = np.fliplr(img)  # Flip the image horizontally to correct left-right orientation\n",
        "        img_array = img_to_array(img).reshape((1, 784))\n",
        "        img_array = img_array / 255.0\n",
        "\n",
        "        # Predict the class\n",
        "        prediction = self.model.predict(img_array)\n",
        "        return np.argmax(prediction)\n",
        "\n",
        "    def display_image(self, image_path):\n",
        "        \"\"\"Display the image using matplotlib.\"\"\"\n",
        "        img = load_img(image_path, color_mode='grayscale', target_size=(28, 28))\n",
        "        plt.imshow(img, cmap='gray')\n",
        "        plt.axis('off')\n",
        "        plt.show()"
      ],
      "metadata": {
        "id": "rlQdmA-0l1dR"
      },
      "execution_count": null,
      "outputs": []
    },
    {
      "cell_type": "code",
      "source": [
        "# Define paths and URLs\n",
        "dataset_url = 'https://github.com/ridwaanhall/datasets/raw/main/arabic_handwritten_digits.zip'\n",
        "extract_path = './data'\n",
        "\n"
      ],
      "metadata": {
        "id": "asN-GF__vMm2"
      },
      "execution_count": null,
      "outputs": []
    },
    {
      "cell_type": "code",
      "source": [
        "# Load and preprocess data\n",
        "data_loader = DataLoader(dataset_url, extract_path)\n",
        "(train_images, train_labels), (test_images, test_labels) = data_loader.load_data()\n"
      ],
      "metadata": {
        "id": "owzwUTuFvU2k"
      },
      "execution_count": null,
      "outputs": []
    },
    {
      "cell_type": "code",
      "source": [
        "\n",
        "# Augment the data by adding inverted images\n",
        "train_images, train_labels = data_loader.augment_data(train_images, train_labels)\n",
        "test_images, test_labels = data_loader.augment_data(test_images, test_labels)\n",
        "\n"
      ],
      "metadata": {
        "id": "wBArWmfMvklN"
      },
      "execution_count": null,
      "outputs": []
    },
    {
      "cell_type": "code",
      "source": [
        "# Show some sample images from the training dataset\n",
        "data_loader.show_samples(images=train_images, labels=train_labels, num_samples=10)\n"
      ],
      "metadata": {
        "colab": {
          "base_uri": "https://localhost:8080/",
          "height": 125
        },
        "id": "Vx5uEtNqvmcR",
        "outputId": "b8819073-f61a-4b28-f7e5-48e4722febd1"
      },
      "execution_count": null,
      "outputs": [
        {
          "output_type": "display_data",
          "data": {
            "text/plain": [
              "<Figure size 1000x200 with 10 Axes>"
            ],
            "image/png": "[encoded data removed]"
          },
          "metadata": {}
        }
      ]
    },
    {
      "cell_type": "code",
      "source": [
        "data_loader.show_samples(images=test_images, labels=test_labels, num_samples=10)\n"
      ],
      "metadata": {
        "colab": {
          "base_uri": "https://localhost:8080/",
          "height": 125
        },
        "id": "RHPCMVmAxb_a",
        "outputId": "a7df58d1-4ea3-4b17-b849-efc5ce63eacb"
      },
      "execution_count": null,
      "outputs": [
        {
          "output_type": "display_data",
          "data": {
            "text/plain": [
              "<Figure size 1000x200 with 10 Axes>"
            ],
            "image/png": "[encoded data removed]"
          },
          "metadata": {}
        }
      ]
    },
    {
      "cell_type": "code",
      "source": [
        "# Build, train, and save the model\n",
        "model_handler = ModelHandler()\n",
        "model_handler.build_model()\n"
      ],
      "metadata": {
        "colab": {
          "base_uri": "https://localhost:8080/"
        },
        "id": "a9sO54hkvvfu",
        "outputId": "ec3843a0-8f0f-4bb5-bc72-073c309ab6b5"
      },
      "execution_count": null,
      "outputs": [
        {
          "output_type": "stream",
          "name": "stdout",
          "text": [
            "Model: \"sequential\"\n",
            "_________________________________________________________________\n",
            " Layer (type)                Output Shape              Param #   \n",
            "=================================================================\n",
            " dense (Dense)               (None, 512)               401920    \n",
            "                                                                 \n",
            " dropout (Dropout)           (None, 512)               0         \n",
            "                                                                 \n",
            " dense_1 (Dense)             (None, 512)               262656    \n",
            "                                                                 \n",
            " dropout_1 (Dropout)         (None, 512)               0         \n",
            "                                                                 \n",
            " dense_2 (Dense)             (None, 10)                5130      \n",
            "                                                                 \n",
            "=================================================================\n",
            "Total params: 669706 (2.55 MB)\n",
            "Trainable params: 669706 (2.55 MB)\n",
            "Non-trainable params: 0 (0.00 Byte)\n",
            "_________________________________________________________________\n"
          ]
        }
      ]
    },
    {
      "cell_type": "code",
      "source": [
        "# model_handler.train_model((train_images, train_labels), (test_images, test_labels))\n",
        "history = model_handler.train_model((train_images, train_labels), (test_images, test_labels))\n",
        "history_df = pd.DataFrame(history.history)\n",
        "history_df.to_csv('model_history.csv', index=False)"
      ],
      "metadata": {
        "colab": {
          "base_uri": "https://localhost:8080/"
        },
        "id": "Ti0BOx4rx2w3",
        "outputId": "bb27bacc-0da3-431a-b9ca-84fc5f3e0da1"
      },
      "execution_count": null,
      "outputs": [
        {
          "output_type": "stream",
          "name": "stdout",
          "text": [
            "Epoch 1/35\n",
            "938/938 [==============================] - 8s 5ms/step - loss: 0.2672 - accuracy: 0.9204 - val_loss: 0.1253 - val_accuracy: 0.9624\n",
            "Epoch 2/35\n",
            "938/938 [==============================] - 4s 4ms/step - loss: 0.1254 - accuracy: 0.9624 - val_loss: 0.1280 - val_accuracy: 0.9618\n",
            "Epoch 3/35\n",
            "938/938 [==============================] - 4s 4ms/step - loss: 0.1088 - accuracy: 0.9673 - val_loss: 0.1066 - val_accuracy: 0.9679\n",
            "Epoch 4/35\n",
            "938/938 [==============================] - 4s 5ms/step - loss: 0.0963 - accuracy: 0.9705 - val_loss: 0.1004 - val_accuracy: 0.9710\n",
            "Epoch 5/35\n",
            "938/938 [==============================] - 5s 5ms/step - loss: 0.0899 - accuracy: 0.9726 - val_loss: 0.1147 - val_accuracy: 0.9679\n",
            "Epoch 6/35\n",
            "938/938 [==============================] - 6s 6ms/step - loss: 0.0835 - accuracy: 0.9748 - val_loss: 0.1008 - val_accuracy: 0.9711\n",
            "Epoch 7/35\n",
            "938/938 [==============================] - 4s 4ms/step - loss: 0.0867 - accuracy: 0.9735 - val_loss: 0.0925 - val_accuracy: 0.9747\n",
            "Epoch 8/35\n",
            "938/938 [==============================] - 3s 4ms/step - loss: 0.0733 - accuracy: 0.9778 - val_loss: 0.0959 - val_accuracy: 0.9735\n",
            "Epoch 9/35\n",
            "938/938 [==============================] - 5s 5ms/step - loss: 0.0697 - accuracy: 0.9788 - val_loss: 0.0825 - val_accuracy: 0.9775\n",
            "Epoch 10/35\n",
            "938/938 [==============================] - 4s 5ms/step - loss: 0.0677 - accuracy: 0.9794 - val_loss: 0.0924 - val_accuracy: 0.9769\n",
            "Epoch 11/35\n",
            "938/938 [==============================] - 3s 4ms/step - loss: 0.0659 - accuracy: 0.9796 - val_loss: 0.0996 - val_accuracy: 0.9739\n",
            "Epoch 12/35\n",
            "938/938 [==============================] - 4s 4ms/step - loss: 0.0667 - accuracy: 0.9794 - val_loss: 0.0946 - val_accuracy: 0.9752\n",
            "Epoch 13/35\n",
            "938/938 [==============================] - 4s 5ms/step - loss: 0.0613 - accuracy: 0.9812 - val_loss: 0.0951 - val_accuracy: 0.9755\n",
            "Epoch 14/35\n",
            "938/938 [==============================] - 3s 4ms/step - loss: 0.0600 - accuracy: 0.9814 - val_loss: 0.0896 - val_accuracy: 0.9787\n",
            "Epoch 15/35\n",
            "938/938 [==============================] - 3s 4ms/step - loss: 0.0616 - accuracy: 0.9811 - val_loss: 0.0981 - val_accuracy: 0.9762\n",
            "Epoch 16/35\n",
            "938/938 [==============================] - 4s 5ms/step - loss: 0.0533 - accuracy: 0.9832 - val_loss: 0.0970 - val_accuracy: 0.9774\n",
            "Epoch 17/35\n",
            "938/938 [==============================] - 4s 4ms/step - loss: 0.0578 - accuracy: 0.9817 - val_loss: 0.0883 - val_accuracy: 0.9796\n",
            "Epoch 18/35\n",
            "938/938 [==============================] - 3s 4ms/step - loss: 0.0547 - accuracy: 0.9833 - val_loss: 0.0983 - val_accuracy: 0.9786\n",
            "Epoch 19/35\n",
            "938/938 [==============================] - 4s 4ms/step - loss: 0.0554 - accuracy: 0.9825 - val_loss: 0.0981 - val_accuracy: 0.9791\n",
            "Epoch 20/35\n",
            "938/938 [==============================] - 4s 4ms/step - loss: 0.0516 - accuracy: 0.9841 - val_loss: 0.1053 - val_accuracy: 0.9794\n",
            "Epoch 21/35\n",
            "938/938 [==============================] - 4s 4ms/step - loss: 0.0519 - accuracy: 0.9840 - val_loss: 0.0893 - val_accuracy: 0.9801\n",
            "Epoch 22/35\n",
            "938/938 [==============================] - 4s 4ms/step - loss: 0.0502 - accuracy: 0.9846 - val_loss: 0.1019 - val_accuracy: 0.9768\n",
            "Epoch 23/35\n",
            "938/938 [==============================] - 4s 5ms/step - loss: 0.0517 - accuracy: 0.9841 - val_loss: 0.0994 - val_accuracy: 0.9785\n",
            "Epoch 24/35\n",
            "938/938 [==============================] - 3s 4ms/step - loss: 0.0511 - accuracy: 0.9839 - val_loss: 0.1066 - val_accuracy: 0.9762\n",
            "Epoch 25/35\n",
            "938/938 [==============================] - 4s 4ms/step - loss: 0.0480 - accuracy: 0.9854 - val_loss: 0.1048 - val_accuracy: 0.9790\n",
            "Epoch 26/35\n",
            "938/938 [==============================] - 4s 5ms/step - loss: 0.0482 - accuracy: 0.9854 - val_loss: 0.1251 - val_accuracy: 0.9721\n",
            "Epoch 27/35\n",
            "938/938 [==============================] - 3s 4ms/step - loss: 0.0484 - accuracy: 0.9852 - val_loss: 0.0967 - val_accuracy: 0.9801\n",
            "Epoch 28/35\n",
            "938/938 [==============================] - 4s 4ms/step - loss: 0.0477 - accuracy: 0.9857 - val_loss: 0.1086 - val_accuracy: 0.9798\n",
            "Epoch 29/35\n",
            "938/938 [==============================] - 4s 4ms/step - loss: 0.0474 - accuracy: 0.9857 - val_loss: 0.1054 - val_accuracy: 0.9770\n",
            "Epoch 30/35\n",
            "938/938 [==============================] - 4s 4ms/step - loss: 0.0446 - accuracy: 0.9864 - val_loss: 0.1031 - val_accuracy: 0.9782\n",
            "Epoch 31/35\n",
            "938/938 [==============================] - 4s 4ms/step - loss: 0.0440 - accuracy: 0.9868 - val_loss: 0.1202 - val_accuracy: 0.9761\n",
            "Epoch 32/35\n",
            "938/938 [==============================] - 4s 4ms/step - loss: 0.0424 - accuracy: 0.9872 - val_loss: 0.1143 - val_accuracy: 0.9786\n",
            "Epoch 33/35\n",
            "938/938 [==============================] - 4s 5ms/step - loss: 0.0424 - accuracy: 0.9875 - val_loss: 0.1044 - val_accuracy: 0.9812\n",
            "Epoch 34/35\n",
            "938/938 [==============================] - 3s 4ms/step - loss: 0.0423 - accuracy: 0.9875 - val_loss: 0.1103 - val_accuracy: 0.9794\n",
            "Epoch 35/35\n",
            "938/938 [==============================] - 3s 4ms/step - loss: 0.0422 - accuracy: 0.9872 - val_loss: 0.1160 - val_accuracy: 0.9803\n"
          ]
        }
      ]
    },
    {
      "cell_type": "code",
      "source": [
        "model_handler.save_model('arabic_handwritten_digit_model.h5')\n"
      ],
      "metadata": {
        "colab": {
          "base_uri": "https://localhost:8080/"
        },
        "id": "-1FKaoa7vzH4",
        "outputId": "77456ef4-f316-41f0-cf10-dcdfc9023abe"
      },
      "execution_count": null,
      "outputs": [
        {
          "output_type": "stream",
          "name": "stderr",
          "text": [
            "/usr/local/lib/python3.10/dist-packages/keras/src/engine/training.py:3103: UserWarning: You are saving your model as an HDF5 file via `model.save()`. This file format is considered legacy. We recommend using instead the native Keras format, e.g. `model.save('my_model.keras')`.\n",
            "  saving_api.save_model(\n"
          ]
        }
      ]
    },
    {
      "cell_type": "code",
      "source": [
        "\n",
        "# Load the model and predict new images\n",
        "model_handler.load_model('arabic_handwritten_digit_model.h5')\n",
        "image_predictor = ImagePredictor(model_handler.model)\n",
        "\n"
      ],
      "metadata": {
        "id": "akYVBPQqwBF_"
      },
      "execution_count": null,
      "outputs": []
    },
    {
      "cell_type": "code",
      "source": [
        "uploaded_image = files.upload()\n",
        "\n",
        "for fn in uploaded_image.keys():\n",
        "  image_predictor.display_image(fn)\n",
        "  prediction = image_predictor.predict_digit(fn)\n",
        "  print(f'The predicted digit for {fn} is {prediction}')"
      ],
      "metadata": {
        "colab": {
          "base_uri": "https://localhost:8080/",
          "height": 495
        },
        "id": "jU_8yOexwES6",
        "outputId": "16d7a892-c278-4839-9b60-f837f9618732"
      },
      "execution_count": null,
      "outputs": [
        {
          "output_type": "display_data",
          "data": {
            "text/plain": [
              "<IPython.core.display.HTML object>"
            ],
            "text/html": [
              "\n",
              "     <input type=\"file\" id=\"files-f4fdc60c-833a-46f5-9f90-44a97b683dc5\" name=\"files[]\" multiple disabled\n",
              "        style=\"border:none\" />\n",
              "     <output id=\"result-f4fdc60c-833a-46f5-9f90-44a97b683dc5\">\n",
              "      Upload widget is only available when the cell has been executed in the\n",
              "      current browser session. Please rerun this cell to enable.\n",
              "      </output>\n",
              "      <script>// Copyright 2017 Google LLC\n",
              "//\n",
              "// Licensed under the Apache License, Version 2.0 (the \"License\");\n",
              "// you may not use this file except in compliance with the License.\n",
              "// You may obtain a copy of the License at\n",
              "//\n",
              "//      http://www.apache.org/licenses/LICENSE-2.0\n",
              "//\n",
              "// Unless required by applicable law or agreed to in writing, software\n",
              "// distributed under the License is distributed on an \"AS IS\" BASIS,\n",
              "// WITHOUT WARRANTIES OR CONDITIONS OF ANY KIND, either express or implied.\n",
              "// See the License for the specific language governing permissions and\n",
              "// limitations under the License.\n",
              "\n",
              "/**\n",
              " * @fileoverview Helpers for google.colab Python module.\n",
              " */\n",
              "(function(scope) {\n",
              "function span(text, styleAttributes = {}) {\n",
              "  const element = document.createElement('span');\n",
              "  element.textContent = text;\n",
              "  for (const key of Object.keys(styleAttributes)) {\n",
              "    element.style[key] = styleAttributes[key];\n",
              "  }\n",
              "  return element;\n",
              "}\n",
              "\n",
              "// Max number of bytes which will be uploaded at a time.\n",
              "const MAX_PAYLOAD_SIZE = 100 * 1024;\n",
              "\n",
              "function _uploadFiles(inputId, outputId) {\n",
              "  const steps = uploadFilesStep(inputId, outputId);\n",
              "  const outputElement = document.getElementById(outputId);\n",
              "  // Cache steps on the outputElement to make it available for the next call\n",
              "  // to uploadFilesContinue from Python.\n",
              "  outputElement.steps = steps;\n",
              "\n",
              "  return _uploadFilesContinue(outputId);\n",
              "}\n",
              "\n",
              "// This is roughly an async generator (not supported in the browser yet),\n",
              "// where there are multiple asynchronous steps and the Python side is going\n",
              "// to poll for completion of each step.\n",
              "// This uses a Promise to block the python side on completion of each step,\n",
              "// then passes the result of the previous step as the input to the next step.\n",
              "function _uploadFilesContinue(outputId) {\n",
              "  const outputElement = document.getElementById(outputId);\n",
              "  const steps = outputElement.steps;\n",
              "\n",
              "  const next = steps.next(outputElement.lastPromiseValue);\n",
              "  return Promise.resolve(next.value.promise).then((value) => {\n",
              "    // Cache the last promise value to make it available to the next\n",
              "    // step of the generator.\n",
              "    outputElement.lastPromiseValue = value;\n",
              "    return next.value.response;\n",
              "  });\n",
              "}\n",
              "\n",
              "/**\n",
              " * Generator function which is called between each async step of the upload\n",
              " * process.\n",
              " * @param {string} inputId Element ID of the input file picker element.\n",
              " * @param {string} outputId Element ID of the output display.\n",
              " * @return {!Iterable<!Object>} Iterable of next steps.\n",
              " */\n",
              "function* uploadFilesStep(inputId, outputId) {\n",
              "  const inputElement = document.getElementById(inputId);\n",
              "  inputElement.disabled = false;\n",
              "\n",
              "  const outputElement = document.getElementById(outputId);\n",
              "  outputElement.innerHTML = '';\n",
              "\n",
              "  const pickedPromise = new Promise((resolve) => {\n",
              "    inputElement.addEventListener('change', (e) => {\n",
              "      resolve(e.target.files);\n",
              "    });\n",
              "  });\n",
              "\n",
              "  const cancel = document.createElement('button');\n",
              "  inputElement.parentElement.appendChild(cancel);\n",
              "  cancel.textContent = 'Cancel upload';\n",
              "  const cancelPromise = new Promise((resolve) => {\n",
              "    cancel.onclick = () => {\n",
              "      resolve(null);\n",
              "    };\n",
              "  });\n",
              "\n",
              "  // Wait for the user to pick the files.\n",
              "  const files = yield {\n",
              "    promise: Promise.race([pickedPromise, cancelPromise]),\n",
              "    response: {\n",
              "      action: 'starting',\n",
              "    }\n",
              "  };\n",
              "\n",
              "  cancel.remove();\n",
              "\n",
              "  // Disable the input element since further picks are not allowed.\n",
              "  inputElement.disabled = true;\n",
              "\n",
              "  if (!files) {\n",
              "    return {\n",
              "      response: {\n",
              "        action: 'complete',\n",
              "      }\n",
              "    };\n",
              "  }\n",
              "\n",
              "  for (const file of files) {\n",
              "    const li = document.createElement('li');\n",
              "    li.append(span(file.name, {fontWeight: 'bold'}));\n",
              "    li.append(span(\n",
              "        `(${file.type || 'n/a'}) - ${file.size} bytes, ` +\n",
              "        `last modified: ${\n",
              "            file.lastModifiedDate ? file.lastModifiedDate.toLocaleDateString() :\n",
              "                                    'n/a'} - `));\n",
              "    const percent = span('0% done');\n",
              "    li.appendChild(percent);\n",
              "\n",
              "    outputElement.appendChild(li);\n",
              "\n",
              "    const fileDataPromise = new Promise((resolve) => {\n",
              "      const reader = new FileReader();\n",
              "      reader.onload = (e) => {\n",
              "        resolve(e.target.result);\n",
              "      };\n",
              "      reader.readAsArrayBuffer(file);\n",
              "    });\n",
              "    // Wait for the data to be ready.\n",
              "    let fileData = yield {\n",
              "      promise: fileDataPromise,\n",
              "      response: {\n",
              "        action: 'continue',\n",
              "      }\n",
              "    };\n",
              "\n",
              "    // Use a chunked sending to avoid message size limits. See b/62115660.\n",
              "    let position = 0;\n",
              "    do {\n",
              "      const length = Math.min(fileData.byteLength - position, MAX_PAYLOAD_SIZE);\n",
              "      const chunk = new Uint8Array(fileData, position, length);\n",
              "      position += length;\n",
              "\n",
              "      const base64 = btoa(String.fromCharCode.apply(null, chunk));\n",
              "      yield {\n",
              "        response: {\n",
              "          action: 'append',\n",
              "          file: file.name,\n",
              "          data: base64,\n",
              "        },\n",
              "      };\n",
              "\n",
              "      let percentDone = fileData.byteLength === 0 ?\n",
              "          100 :\n",
              "          Math.round((position / fileData.byteLength) * 100);\n",
              "      percent.textContent = `${percentDone}% done`;\n",
              "\n",
              "    } while (position < fileData.byteLength);\n",
              "  }\n",
              "\n",
              "  // All done.\n",
              "  yield {\n",
              "    response: {\n",
              "      action: 'complete',\n",
              "    }\n",
              "  };\n",
              "}\n",
              "\n",
              "scope.google = scope.google || {};\n",
              "scope.google.colab = scope.google.colab || {};\n",
              "scope.google.colab._files = {\n",
              "  _uploadFiles,\n",
              "  _uploadFilesContinue,\n",
              "};\n",
              "})(self);\n",
              "</script> "
            ]
          },
          "metadata": {}
        },
        {
          "output_type": "stream",
          "name": "stdout",
          "text": [
            "Saving Screenshot 2024-06-19 152131.png to Screenshot 2024-06-19 152131.png\n"
          ]
        },
        {
          "output_type": "display_data",
          "data": {
            "text/plain": [
              "<Figure size 640x480 with 1 Axes>"
            ],
            "image/png": "[encoded data removed]"
          },
          "metadata": {}
        },
        {
          "output_type": "stream",
          "name": "stdout",
          "text": [
            "1/1 [==============================] - 0s 123ms/step\n",
            "The predicted digit for Screenshot 2024-06-19 152131.png is 3\n"
          ]
        }
      ]
    }
  ],
  "metadata": {
    "colab": {
      "provenance": [],
      "gpuType": "T4"
    },
    "kernelspec": {
      "display_name": "Python 3",
      "name": "python3"
    },
    "language_info": {
      "name": "python"
    },
    "accelerator": "GPU"
  },
  "nbformat": 4,
  "nbformat_minor": 0
}