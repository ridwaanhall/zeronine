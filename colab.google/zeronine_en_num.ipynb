{
  "cells": [
    {
      "cell_type": "code",
      "execution_count": null,
      "metadata": {
        "colab": {
          "base_uri": "https://localhost:8080/"
        },
        "id": "JjSyHshUzR1-",
        "outputId": "46788752-2fec-4e14-d20a-61e413a0e11d"
      },
      "outputs": [
        {
          "output_type": "stream",
          "name": "stdout",
          "text": [
            "Requirement already satisfied: wget in /usr/local/lib/python3.10/dist-packages (3.2)\n"
          ]
        }
      ],
      "source": [
        "!pip install wget"
      ]
    },
    {
      "cell_type": "code",
      "execution_count": null,
      "metadata": {
        "id": "ZItVMPF8zWeN"
      },
      "outputs": [],
      "source": [
        "import tensorflow as tf\n",
        "from tensorflow.keras.preprocessing.image import ImageDataGenerator\n",
        "from keras.preprocessing import image\n",
        "import matplotlib.pyplot as plt\n",
        "from google.colab import files\n",
        "import numpy as np\n",
        "import zipfile\n",
        "import os\n",
        "import wget\n",
        "import glob\n",
        "import time\n",
        "import requests\n",
        "from PIL import Image\n",
        "from io import BytesIO"
      ]
    },
    {
      "cell_type": "code",
      "source": [
        "class DatasetProcessor:\n",
        "    def __init__(self, url, dataset_zip, dataset_dir):\n",
        "        self.url = url\n",
        "        self.dataset_zip = dataset_zip\n",
        "        self.dataset_dir = dataset_dir\n",
        "\n",
        "    def download_and_extract(self):\n",
        "        \"\"\"\n",
        "\n",
        "        \"\"\"\n",
        "        wget.download(self.url, self.dataset_zip)\n",
        "        with zipfile.ZipFile(self.dataset_zip, 'r') as zip_ref:\n",
        "            zip_ref.extractall(self.dataset_dir)\n",
        "        print(\"Dataset downloaded and extracted successfully.\")\n",
        "\n",
        "    def prepare_data_generators(self):\n",
        "        base_dir = os.path.join(self.dataset_dir, 'zeronine')\n",
        "\n",
        "        if not os.path.exists(base_dir):\n",
        "            raise Exception(f\"Base directory {base_dir} does not exist.\")\n",
        "\n",
        "        categories = ['zero', 'one', 'two', 'three', 'four', 'five', 'six', 'seven', 'eight', 'nine']\n",
        "        for category in categories:\n",
        "            if len(glob.glob(f\"{base_dir}/{category}/*\")) == 0:\n",
        "                raise Exception(f\"No images found in category {category}.\")\n",
        "\n",
        "        train_datagen = ImageDataGenerator(\n",
        "            rescale=1./255,\n",
        "            rotation_range=10,        # Small rotation, 10 degrees\n",
        "            width_shift_range=0.1,    # Small shift, 10%\n",
        "            height_shift_range=0.1,   # Small shift, 10%\n",
        "            shear_range=0.1,          # Small shear\n",
        "            zoom_range=0.1,           # Small zoom\n",
        "            fill_mode='nearest',\n",
        "            validation_split=0.2      # 20% for validation\n",
        "        )\n",
        "\n",
        "        self.train_generator = train_datagen.flow_from_directory(\n",
        "            base_dir,\n",
        "            target_size=(150, 150),\n",
        "            batch_size=32,\n",
        "            class_mode='categorical',\n",
        "            subset='training'  # Set as training data\n",
        "        )\n",
        "        self.validation_generator = train_datagen.flow_from_directory(\n",
        "            base_dir,\n",
        "            target_size=(150, 150),\n",
        "            batch_size=32,\n",
        "            class_mode='categorical',\n",
        "            subset='validation'  # Set as validation data\n",
        "        )\n",
        "        print(\"Data generators prepared successfully.\")\n",
        "        return self.train_generator, self.validation_generator"
      ],
      "metadata": {
        "id": "N_PD3ySxB6bQ"
      },
      "execution_count": null,
      "outputs": []
    },
    {
      "cell_type": "code",
      "source": [
        "class ModelBuilder:\n",
        "    def __init__(self):\n",
        "        self.model = tf.keras.models.Sequential([\n",
        "            tf.keras.layers.Conv2D(32, (3, 3), activation='relu', input_shape=(150, 150, 3)),\n",
        "            tf.keras.layers.MaxPooling2D(2, 2),\n",
        "            tf.keras.layers.Conv2D(64, (3, 3), activation='relu'),\n",
        "            tf.keras.layers.MaxPooling2D(2, 2),\n",
        "            tf.keras.layers.Conv2D(128, (3, 3), activation='relu'),\n",
        "            tf.keras.layers.MaxPooling2D(2, 2),\n",
        "            tf.keras.layers.Flatten(),\n",
        "            tf.keras.layers.Dropout(0.5),\n",
        "            tf.keras.layers.Dense(512, activation='relu'),\n",
        "            tf.keras.layers.Dense(10, activation='softmax')\n",
        "        ])\n",
        "\n",
        "    def compile_model(self):\n",
        "        self.model.compile(\n",
        "            loss='categorical_crossentropy',\n",
        "            optimizer=tf.keras.optimizers.Adam(),\n",
        "            metrics=['accuracy']\n",
        "        )\n",
        "        print(\"Model compiled successfully.\")\n",
        "\n",
        "    def train_model(self, train_generator, validation_generator):\n",
        "        start_time = time.time()\n",
        "        self.history = self.model.fit(\n",
        "            train_generator,\n",
        "            steps_per_epoch=len(train_generator),\n",
        "            epochs=35,\n",
        "            validation_data=validation_generator,\n",
        "            validation_steps=len(validation_generator),\n",
        "            verbose=2\n",
        "        )\n",
        "        end_time = time.time()\n",
        "        total_time = end_time - start_time\n",
        "        avg_time_per_epoch = total_time / 35\n",
        "\n",
        "        print(f\"Total training time   : {total_time:.3f} seconds ({total_time / 60:.3f} minutes)\")\n",
        "        print(f\"Average time per epoch: {avg_time_per_epoch:.3f} seconds/epoch\")\n",
        "        print(\"Model trained successfully.\")\n",
        "\n",
        "    def evaluate_model(self):\n",
        "        acc = self.history.history['accuracy'][-1]\n",
        "        val_acc = self.history.history['val_accuracy'][-1]\n",
        "        print(f\"Training accuracy     : {acc:.5f}\")\n",
        "        print(f\"Validation accuracy   : {val_acc:.5f}\")\n",
        "        assert val_acc >= 0.85, \"Validation accuracy is below 85%\"\n",
        "        print(\"Model evaluation completed successfully.\")\n",
        "\n",
        "    def plot_training_history(self):\n",
        "        # accuracy values\n",
        "        plt.figure(figsize=(12, 4))\n",
        "        plt.subplot(1, 2, 1)\n",
        "        plt.plot(self.history.history['accuracy'])\n",
        "        plt.plot(self.history.history['val_accuracy'])\n",
        "        plt.title('Model accuracy')\n",
        "        plt.ylabel('Accuracy')\n",
        "        plt.xlabel('Epoch')\n",
        "        plt.legend(['Train', 'Validation'], loc='upper left')\n",
        "\n",
        "        # loss values\n",
        "        plt.subplot(1, 2, 2)\n",
        "        plt.plot(self.history.history['loss'])\n",
        "        plt.plot(self.history.history['val_loss'])\n",
        "        plt.title('Model loss')\n",
        "        plt.ylabel('Loss')\n",
        "        plt.xlabel('Epoch')\n",
        "        plt.legend(['Train', 'Validation'], loc='upper left')\n",
        "        plt.show()\n",
        "        print(\"Training history plotted successfully.\")\n",
        "\n",
        "    def save_model(self, file_path):\n",
        "        self.model.save(file_path)\n",
        "        print(f\"Model saved to {file_path}\")\n",
        "\n",
        "    def show_model_structure(self):\n",
        "        self.model.summary()\n",
        "        # Optional: Plot the model\n",
        "        tf.keras.utils.plot_model(self.model, to_file='model_structure.png', show_shapes=True)\n",
        "        print(\"Model structure shown successfully.\")"
      ],
      "metadata": {
        "id": "8sdiMACNDYT7"
      },
      "execution_count": null,
      "outputs": []
    },
    {
      "cell_type": "code",
      "source": [
        "class ImagePredictor:\n",
        "    def __init__(self, model, class_labels):\n",
        "        self.model = model\n",
        "        self.class_labels = class_labels\n",
        "\n",
        "    def predict_image(self):\n",
        "        uploaded = files.upload()\n",
        "        for fn in uploaded.keys():\n",
        "            path = fn\n",
        "            img = image.load_img(path, target_size=(150, 150))\n",
        "            img_tensor = image.img_to_array(img)\n",
        "            img_tensor = np.expand_dims(img_tensor, axis=0)\n",
        "            img_tensor /= 255.\n",
        "            prediction = self.model.predict(img_tensor)\n",
        "            predicted_class = np.argmax(prediction, axis=1)\n",
        "            predicted_label = self.class_labels[predicted_class[0]]\n",
        "\n",
        "            plt.imshow(img)\n",
        "            plt.axis('off')\n",
        "            plt.title(f\"Predicted: {predicted_label}\")\n",
        "            plt.show()\n",
        "\n",
        "            print(f\"The uploaded image is a {predicted_label}\")"
      ],
      "metadata": {
        "id": "4OgJz2XhDY3J"
      },
      "execution_count": null,
      "outputs": []
    },
    {
      "cell_type": "code",
      "source": [
        "dataset_processor = DatasetProcessor(\n",
        "    url='https://github.com/ridwaanhall/datasets/raw/main/zeronine.zip',\n",
        "    dataset_zip='zeronine.zip',\n",
        "    dataset_dir='zeronine'\n",
        ")\n",
        "dataset_processor.download_and_extract()"
      ],
      "metadata": {
        "colab": {
          "base_uri": "https://localhost:8080/"
        },
        "id": "4uTYti70DcYa",
        "outputId": "662232f4-bf8c-472e-bb5a-4e432b55c642"
      },
      "execution_count": null,
      "outputs": [
        {
          "output_type": "stream",
          "name": "stdout",
          "text": [
            "Dataset downloaded and extracted successfully.\n"
          ]
        }
      ]
    },
    {
      "cell_type": "code",
      "source": [
        "train_generator, validation_generator = dataset_processor.prepare_data_generators()"
      ],
      "metadata": {
        "colab": {
          "base_uri": "https://localhost:8080/"
        },
        "id": "biWeMmTalC_V",
        "outputId": "9fc5ed8d-e89b-41da-a715-e7ec11f51da8"
      },
      "execution_count": null,
      "outputs": [
        {
          "output_type": "stream",
          "name": "stdout",
          "text": [
            "Found 6037 images belonging to 10 classes.\n",
            "Found 1506 images belonging to 10 classes.\n",
            "Data generators prepared successfully.\n"
          ]
        }
      ]
    },
    {
      "cell_type": "code",
      "source": [
        "model_builder = ModelBuilder()\n",
        "model_builder.compile_model()"
      ],
      "metadata": {
        "colab": {
          "base_uri": "https://localhost:8080/"
        },
        "id": "FZpsun74E1hg",
        "outputId": "85e4d90f-1829-42ea-c399-304611763778"
      },
      "execution_count": null,
      "outputs": [
        {
          "output_type": "stream",
          "name": "stdout",
          "text": [
            "Model compiled successfully.\n"
          ]
        }
      ]
    },
    {
      "cell_type": "code",
      "source": [
        "model_builder.train_model(train_generator, validation_generator)"
      ],
      "metadata": {
        "colab": {
          "base_uri": "https://localhost:8080/"
        },
        "id": "d6EPl6roE9Dy",
        "outputId": "747d096d-8113-4e4c-dfff-1ca249b840e0"
      },
      "execution_count": null,
      "outputs": [
        {
          "output_type": "stream",
          "name": "stdout",
          "text": [
            "Epoch 1/35\n",
            "189/189 - 51s - loss: 2.1793 - accuracy: 0.2196 - val_loss: 1.3131 - val_accuracy: 0.6109 - 51s/epoch - 270ms/step\n",
            "Epoch 2/35\n",
            "189/189 - 45s - loss: 1.2519 - accuracy: 0.5904 - val_loss: 0.7432 - val_accuracy: 0.8094 - 45s/epoch - 238ms/step\n",
            "Epoch 3/35\n",
            "189/189 - 44s - loss: 0.8584 - accuracy: 0.7285 - val_loss: 0.5243 - val_accuracy: 0.8533 - 44s/epoch - 233ms/step\n",
            "Epoch 4/35\n",
            "189/189 - 45s - loss: 0.6943 - accuracy: 0.7795 - val_loss: 0.4206 - val_accuracy: 0.8772 - 45s/epoch - 240ms/step\n",
            "Epoch 5/35\n",
            "189/189 - 44s - loss: 0.5610 - accuracy: 0.8266 - val_loss: 0.2706 - val_accuracy: 0.9256 - 44s/epoch - 232ms/step\n",
            "Epoch 6/35\n",
            "189/189 - 44s - loss: 0.4591 - accuracy: 0.8554 - val_loss: 0.2208 - val_accuracy: 0.9402 - 44s/epoch - 232ms/step\n",
            "Epoch 7/35\n",
            "189/189 - 46s - loss: 0.3802 - accuracy: 0.8836 - val_loss: 0.2239 - val_accuracy: 0.9389 - 46s/epoch - 242ms/step\n",
            "Epoch 8/35\n",
            "189/189 - 44s - loss: 0.3557 - accuracy: 0.8955 - val_loss: 0.1590 - val_accuracy: 0.9568 - 44s/epoch - 231ms/step\n",
            "Epoch 9/35\n",
            "189/189 - 44s - loss: 0.3020 - accuracy: 0.9084 - val_loss: 0.1731 - val_accuracy: 0.9562 - 44s/epoch - 233ms/step\n",
            "Epoch 10/35\n",
            "189/189 - 44s - loss: 0.2941 - accuracy: 0.9127 - val_loss: 0.0854 - val_accuracy: 0.9741 - 44s/epoch - 231ms/step\n",
            "Epoch 11/35\n",
            "189/189 - 45s - loss: 0.2598 - accuracy: 0.9228 - val_loss: 0.1264 - val_accuracy: 0.9648 - 45s/epoch - 240ms/step\n",
            "Epoch 12/35\n",
            "189/189 - 44s - loss: 0.2371 - accuracy: 0.9270 - val_loss: 0.1384 - val_accuracy: 0.9588 - 44s/epoch - 231ms/step\n",
            "Epoch 13/35\n",
            "189/189 - 45s - loss: 0.2223 - accuracy: 0.9347 - val_loss: 0.1452 - val_accuracy: 0.9555 - 45s/epoch - 238ms/step\n",
            "Epoch 14/35\n",
            "189/189 - 44s - loss: 0.2294 - accuracy: 0.9308 - val_loss: 0.1220 - val_accuracy: 0.9641 - 44s/epoch - 234ms/step\n",
            "Epoch 15/35\n",
            "189/189 - 45s - loss: 0.2066 - accuracy: 0.9404 - val_loss: 0.1052 - val_accuracy: 0.9701 - 45s/epoch - 240ms/step\n",
            "Epoch 16/35\n",
            "189/189 - 44s - loss: 0.2020 - accuracy: 0.9437 - val_loss: 0.0813 - val_accuracy: 0.9761 - 44s/epoch - 232ms/step\n",
            "Epoch 17/35\n",
            "189/189 - 46s - loss: 0.1962 - accuracy: 0.9422 - val_loss: 0.0875 - val_accuracy: 0.9754 - 46s/epoch - 243ms/step\n",
            "Epoch 18/35\n",
            "189/189 - 44s - loss: 0.1979 - accuracy: 0.9414 - val_loss: 0.1190 - val_accuracy: 0.9681 - 44s/epoch - 234ms/step\n",
            "Epoch 19/35\n",
            "189/189 - 46s - loss: 0.1777 - accuracy: 0.9491 - val_loss: 0.0825 - val_accuracy: 0.9734 - 46s/epoch - 242ms/step\n",
            "Epoch 20/35\n",
            "189/189 - 45s - loss: 0.1673 - accuracy: 0.9515 - val_loss: 0.1160 - val_accuracy: 0.9661 - 45s/epoch - 236ms/step\n",
            "Epoch 21/35\n",
            "189/189 - 46s - loss: 0.1719 - accuracy: 0.9520 - val_loss: 0.0851 - val_accuracy: 0.9734 - 46s/epoch - 244ms/step\n",
            "Epoch 22/35\n",
            "189/189 - 45s - loss: 0.1752 - accuracy: 0.9450 - val_loss: 0.0830 - val_accuracy: 0.9741 - 45s/epoch - 235ms/step\n",
            "Epoch 23/35\n",
            "189/189 - 46s - loss: 0.1533 - accuracy: 0.9563 - val_loss: 0.0950 - val_accuracy: 0.9668 - 46s/epoch - 241ms/step\n",
            "Epoch 24/35\n",
            "189/189 - 44s - loss: 0.1503 - accuracy: 0.9559 - val_loss: 0.0728 - val_accuracy: 0.9768 - 44s/epoch - 234ms/step\n",
            "Epoch 25/35\n",
            "189/189 - 44s - loss: 0.1354 - accuracy: 0.9591 - val_loss: 0.0689 - val_accuracy: 0.9781 - 44s/epoch - 232ms/step\n",
            "Epoch 26/35\n",
            "189/189 - 45s - loss: 0.1449 - accuracy: 0.9588 - val_loss: 0.0828 - val_accuracy: 0.9754 - 45s/epoch - 236ms/step\n",
            "Epoch 27/35\n",
            "189/189 - 44s - loss: 0.1533 - accuracy: 0.9541 - val_loss: 0.0607 - val_accuracy: 0.9861 - 44s/epoch - 233ms/step\n",
            "Epoch 28/35\n",
            "189/189 - 46s - loss: 0.1514 - accuracy: 0.9510 - val_loss: 0.0656 - val_accuracy: 0.9827 - 46s/epoch - 243ms/step\n",
            "Epoch 29/35\n",
            "189/189 - 44s - loss: 0.1333 - accuracy: 0.9626 - val_loss: 0.0900 - val_accuracy: 0.9734 - 44s/epoch - 232ms/step\n",
            "Epoch 30/35\n",
            "189/189 - 45s - loss: 0.1333 - accuracy: 0.9616 - val_loss: 0.0636 - val_accuracy: 0.9827 - 45s/epoch - 239ms/step\n",
            "Epoch 31/35\n",
            "189/189 - 44s - loss: 0.1175 - accuracy: 0.9646 - val_loss: 0.0653 - val_accuracy: 0.9801 - 44s/epoch - 230ms/step\n",
            "Epoch 32/35\n",
            "189/189 - 45s - loss: 0.1301 - accuracy: 0.9611 - val_loss: 0.0559 - val_accuracy: 0.9834 - 45s/epoch - 238ms/step\n",
            "Epoch 33/35\n",
            "189/189 - 44s - loss: 0.1293 - accuracy: 0.9632 - val_loss: 0.0740 - val_accuracy: 0.9774 - 44s/epoch - 231ms/step\n",
            "Epoch 34/35\n",
            "189/189 - 46s - loss: 0.1320 - accuracy: 0.9609 - val_loss: 0.0624 - val_accuracy: 0.9794 - 46s/epoch - 245ms/step\n",
            "Epoch 35/35\n",
            "189/189 - 44s - loss: 0.1256 - accuracy: 0.9646 - val_loss: 0.0646 - val_accuracy: 0.9814 - 44s/epoch - 232ms/step\n",
            "Total training time   : 2089.534 seconds (34.826 minutes)\n",
            "Average time per epoch: 59.701 seconds/epoch\n",
            "Model trained successfully.\n"
          ]
        }
      ]
    },
    {
      "cell_type": "code",
      "source": [
        "model_builder.evaluate_model()"
      ],
      "metadata": {
        "colab": {
          "base_uri": "https://localhost:8080/"
        },
        "id": "Xq_4TVFhU7K2",
        "outputId": "4b748d81-41e8-4033-fdc3-60d2c3bce0bc"
      },
      "execution_count": null,
      "outputs": [
        {
          "output_type": "stream",
          "name": "stdout",
          "text": [
            "Training accuracy     : 0.96455\n",
            "Validation accuracy   : 0.98141\n",
            "Model evaluation completed successfully.\n"
          ]
        }
      ]
    },
    {
      "cell_type": "code",
      "source": [
        "model_builder.plot_training_history()"
      ],
      "metadata": {
        "colab": {
          "base_uri": "https://localhost:8080/",
          "height": 382
        },
        "id": "PkxwvsAqVBSV",
        "outputId": "99ef65f6-5eeb-4cee-8ce4-e80ad2c2e085"
      },
      "execution_count": null,
      "outputs": [
        {
          "output_type": "display_data",
          "data": {
            "text/plain": [
              "<Figure size 1200x400 with 2 Axes>"
            ],
            "image/png": "[encoded data removed]"
          },
          "metadata": {}
        },
        {
          "output_type": "stream",
          "name": "stdout",
          "text": [
            "Training history plotted successfully.\n"
          ]
        }
      ]
    },
    {
      "cell_type": "code",
      "source": [
        "model_builder.show_model_structure()"
      ],
      "metadata": {
        "colab": {
          "base_uri": "https://localhost:8080/"
        },
        "id": "gGt8XFFOVD_N",
        "outputId": "d5e5363a-78a6-4c38-b740-8ef912414468"
      },
      "execution_count": null,
      "outputs": [
        {
          "output_type": "stream",
          "name": "stdout",
          "text": [
            "Model: \"sequential\"\n",
            "_________________________________________________________________\n",
            " Layer (type)                Output Shape              Param #   \n",
            "=================================================================\n",
            " conv2d (Conv2D)             (None, 148, 148, 32)      896       \n",
            "                                                                 \n",
            " max_pooling2d (MaxPooling2  (None, 74, 74, 32)        0         \n",
            " D)                                                              \n",
            "                                                                 \n",
            " conv2d_1 (Conv2D)           (None, 72, 72, 64)        18496     \n",
            "                                                                 \n",
            " max_pooling2d_1 (MaxPoolin  (None, 36, 36, 64)        0         \n",
            " g2D)                                                            \n",
            "                                                                 \n",
            " conv2d_2 (Conv2D)           (None, 34, 34, 128)       73856     \n",
            "                                                                 \n",
            " max_pooling2d_2 (MaxPoolin  (None, 17, 17, 128)       0         \n",
            " g2D)                                                            \n",
            "                                                                 \n",
            " flatten (Flatten)           (None, 36992)             0         \n",
            "                                                                 \n",
            " dropout (Dropout)           (None, 36992)             0         \n",
            "                                                                 \n",
            " dense (Dense)               (None, 512)               18940416  \n",
            "                                                                 \n",
            " dense_1 (Dense)             (None, 10)                5130      \n",
            "                                                                 \n",
            "=================================================================\n",
            "Total params: 19038794 (72.63 MB)\n",
            "Trainable params: 19038794 (72.63 MB)\n",
            "Non-trainable params: 0 (0.00 Byte)\n",
            "_________________________________________________________________\n",
            "Model structure shown successfully.\n"
          ]
        }
      ]
    },
    {
      "cell_type": "code",
      "source": [
        "model_builder.save_model('zeronine_project.h5')"
      ],
      "metadata": {
        "colab": {
          "base_uri": "https://localhost:8080/"
        },
        "id": "DVMUj7ekQMO8",
        "outputId": "1a09fe5a-c836-4b1e-ae6e-dafb6244bce2"
      },
      "execution_count": null,
      "outputs": [
        {
          "output_type": "stream",
          "name": "stdout",
          "text": [
            "Model saved to zeronine_project.h5\n"
          ]
        }
      ]
    },
    {
      "cell_type": "code",
      "source": [
        "# Initialize image predictor\n",
        "image_predictor = ImagePredictor(model=model_builder.model, class_labels=['eight', 'five', 'four', 'nine', 'one', 'seven', 'six', 'three', 'two', 'zero'])\n",
        "# Predict image\n",
        "image_predictor.predict_image()"
      ],
      "metadata": {
        "colab": {
          "base_uri": "https://localhost:8080/",
          "height": 518
        },
        "id": "wR09LX3DuDOY",
        "outputId": "1fb48619-87cc-4c2e-94a3-db61938b1ee2"
      },
      "execution_count": null,
      "outputs": [
        {
          "output_type": "display_data",
          "data": {
            "text/plain": [
              "<IPython.core.display.HTML object>"
            ],
            "text/html": [
              "\n",
              "     <input type=\"file\" id=\"files-97fa2c95-4c2c-407c-89d5-f9ee4df204d9\" name=\"files[]\" multiple disabled\n",
              "        style=\"border:none\" />\n",
              "     <output id=\"result-97fa2c95-4c2c-407c-89d5-f9ee4df204d9\">\n",
              "      Upload widget is only available when the cell has been executed in the\n",
              "      current browser session. Please rerun this cell to enable.\n",
              "      </output>\n",
              "      <script>// Copyright 2017 Google LLC\n",
              "//\n",
              "// Licensed under the Apache License, Version 2.0 (the \"License\");\n",
              "// you may not use this file except in compliance with the License.\n",
              "// You may obtain a copy of the License at\n",
              "//\n",
              "//      http://www.apache.org/licenses/LICENSE-2.0\n",
              "//\n",
              "// Unless required by applicable law or agreed to in writing, software\n",
              "// distributed under the License is distributed on an \"AS IS\" BASIS,\n",
              "// WITHOUT WARRANTIES OR CONDITIONS OF ANY KIND, either express or implied.\n",
              "// See the License for the specific language governing permissions and\n",
              "// limitations under the License.\n",
              "\n",
              "/**\n",
              " * @fileoverview Helpers for google.colab Python module.\n",
              " */\n",
              "(function(scope) {\n",
              "function span(text, styleAttributes = {}) {\n",
              "  const element = document.createElement('span');\n",
              "  element.textContent = text;\n",
              "  for (const key of Object.keys(styleAttributes)) {\n",
              "    element.style[key] = styleAttributes[key];\n",
              "  }\n",
              "  return element;\n",
              "}\n",
              "\n",
              "// Max number of bytes which will be uploaded at a time.\n",
              "const MAX_PAYLOAD_SIZE = 100 * 1024;\n",
              "\n",
              "function _uploadFiles(inputId, outputId) {\n",
              "  const steps = uploadFilesStep(inputId, outputId);\n",
              "  const outputElement = document.getElementById(outputId);\n",
              "  // Cache steps on the outputElement to make it available for the next call\n",
              "  // to uploadFilesContinue from Python.\n",
              "  outputElement.steps = steps;\n",
              "\n",
              "  return _uploadFilesContinue(outputId);\n",
              "}\n",
              "\n",
              "// This is roughly an async generator (not supported in the browser yet),\n",
              "// where there are multiple asynchronous steps and the Python side is going\n",
              "// to poll for completion of each step.\n",
              "// This uses a Promise to block the python side on completion of each step,\n",
              "// then passes the result of the previous step as the input to the next step.\n",
              "function _uploadFilesContinue(outputId) {\n",
              "  const outputElement = document.getElementById(outputId);\n",
              "  const steps = outputElement.steps;\n",
              "\n",
              "  const next = steps.next(outputElement.lastPromiseValue);\n",
              "  return Promise.resolve(next.value.promise).then((value) => {\n",
              "    // Cache the last promise value to make it available to the next\n",
              "    // step of the generator.\n",
              "    outputElement.lastPromiseValue = value;\n",
              "    return next.value.response;\n",
              "  });\n",
              "}\n",
              "\n",
              "/**\n",
              " * Generator function which is called between each async step of the upload\n",
              " * process.\n",
              " * @param {string} inputId Element ID of the input file picker element.\n",
              " * @param {string} outputId Element ID of the output display.\n",
              " * @return {!Iterable<!Object>} Iterable of next steps.\n",
              " */\n",
              "function* uploadFilesStep(inputId, outputId) {\n",
              "  const inputElement = document.getElementById(inputId);\n",
              "  inputElement.disabled = false;\n",
              "\n",
              "  const outputElement = document.getElementById(outputId);\n",
              "  outputElement.innerHTML = '';\n",
              "\n",
              "  const pickedPromise = new Promise((resolve) => {\n",
              "    inputElement.addEventListener('change', (e) => {\n",
              "      resolve(e.target.files);\n",
              "    });\n",
              "  });\n",
              "\n",
              "  const cancel = document.createElement('button');\n",
              "  inputElement.parentElement.appendChild(cancel);\n",
              "  cancel.textContent = 'Cancel upload';\n",
              "  const cancelPromise = new Promise((resolve) => {\n",
              "    cancel.onclick = () => {\n",
              "      resolve(null);\n",
              "    };\n",
              "  });\n",
              "\n",
              "  // Wait for the user to pick the files.\n",
              "  const files = yield {\n",
              "    promise: Promise.race([pickedPromise, cancelPromise]),\n",
              "    response: {\n",
              "      action: 'starting',\n",
              "    }\n",
              "  };\n",
              "\n",
              "  cancel.remove();\n",
              "\n",
              "  // Disable the input element since further picks are not allowed.\n",
              "  inputElement.disabled = true;\n",
              "\n",
              "  if (!files) {\n",
              "    return {\n",
              "      response: {\n",
              "        action: 'complete',\n",
              "      }\n",
              "    };\n",
              "  }\n",
              "\n",
              "  for (const file of files) {\n",
              "    const li = document.createElement('li');\n",
              "    li.append(span(file.name, {fontWeight: 'bold'}));\n",
              "    li.append(span(\n",
              "        `(${file.type || 'n/a'}) - ${file.size} bytes, ` +\n",
              "        `last modified: ${\n",
              "            file.lastModifiedDate ? file.lastModifiedDate.toLocaleDateString() :\n",
              "                                    'n/a'} - `));\n",
              "    const percent = span('0% done');\n",
              "    li.appendChild(percent);\n",
              "\n",
              "    outputElement.appendChild(li);\n",
              "\n",
              "    const fileDataPromise = new Promise((resolve) => {\n",
              "      const reader = new FileReader();\n",
              "      reader.onload = (e) => {\n",
              "        resolve(e.target.result);\n",
              "      };\n",
              "      reader.readAsArrayBuffer(file);\n",
              "    });\n",
              "    // Wait for the data to be ready.\n",
              "    let fileData = yield {\n",
              "      promise: fileDataPromise,\n",
              "      response: {\n",
              "        action: 'continue',\n",
              "      }\n",
              "    };\n",
              "\n",
              "    // Use a chunked sending to avoid message size limits. See b/62115660.\n",
              "    let position = 0;\n",
              "    do {\n",
              "      const length = Math.min(fileData.byteLength - position, MAX_PAYLOAD_SIZE);\n",
              "      const chunk = new Uint8Array(fileData, position, length);\n",
              "      position += length;\n",
              "\n",
              "      const base64 = btoa(String.fromCharCode.apply(null, chunk));\n",
              "      yield {\n",
              "        response: {\n",
              "          action: 'append',\n",
              "          file: file.name,\n",
              "          data: base64,\n",
              "        },\n",
              "      };\n",
              "\n",
              "      let percentDone = fileData.byteLength === 0 ?\n",
              "          100 :\n",
              "          Math.round((position / fileData.byteLength) * 100);\n",
              "      percent.textContent = `${percentDone}% done`;\n",
              "\n",
              "    } while (position < fileData.byteLength);\n",
              "  }\n",
              "\n",
              "  // All done.\n",
              "  yield {\n",
              "    response: {\n",
              "      action: 'complete',\n",
              "    }\n",
              "  };\n",
              "}\n",
              "\n",
              "scope.google = scope.google || {};\n",
              "scope.google.colab = scope.google.colab || {};\n",
              "scope.google.colab._files = {\n",
              "  _uploadFiles,\n",
              "  _uploadFilesContinue,\n",
              "};\n",
              "})(self);\n",
              "</script> "
            ]
          },
          "metadata": {}
        },
        {
          "output_type": "stream",
          "name": "stdout",
          "text": [
            "Saving 7_DataSet4_555.jpg to 7_DataSet4_555.jpg\n",
            "1/1 [==============================] - 0s 18ms/step\n"
          ]
        },
        {
          "output_type": "display_data",
          "data": {
            "text/plain": [
              "<Figure size 640x480 with 1 Axes>"
            ],
            "image/png": "[encoded data removed]"
          },
          "metadata": {}
        },
        {
          "output_type": "stream",
          "name": "stdout",
          "text": [
            "The uploaded image is a seven\n"
          ]
        }
      ]
    }
  ],
  "metadata": {
    "colab": {
      "provenance": [],
      "gpuType": "T4"
    },
    "kernelspec": {
      "display_name": "Python 3",
      "name": "python3"
    },
    "language_info": {
      "name": "python"
    },
    "accelerator": "GPU"
  },
  "nbformat": 4,
  "nbformat_minor": 0
}